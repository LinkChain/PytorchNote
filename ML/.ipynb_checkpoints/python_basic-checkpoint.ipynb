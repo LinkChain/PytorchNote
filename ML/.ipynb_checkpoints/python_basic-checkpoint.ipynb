{
 "cells": [
  {
   "cell_type": "code",
   "execution_count": 1,
   "metadata": {},
   "outputs": [
    {
     "name": "stdout",
     "output_type": "stream",
     "text": [
      "A value: 6.18\n",
      "A value: 523\n",
      "keys: dict_keys(['a', 'b', 'c'])\n",
      "values: dict_values([523, 'str', True])\n",
      "523\n",
      "str\n",
      "True\n",
      "{'b': 'str', 'c': True}\n",
      "{}\n"
     ]
    }
   ],
   "source": [
    "# 字典\n",
    "mydict = {'a': 6.18, 'b': 'str', 'c': True}\n",
    "print('A value: %.2f' % mydict['a'])\n",
    "# 增加字典元素\n",
    "mydict['a'] = 523\n",
    "print('A value: %d' % mydict['a'])\n",
    "print('keys: %s' % mydict.keys())\n",
    "print('values: %s' % mydict.values())\n",
    "for key in mydict:\n",
    "    print(mydict[key])\n",
    "\n",
    "\n",
    "mydict = {'a': 6.18, 'b': 'str', 'c': True}\n",
    "# 删除特定元素\n",
    "mydict.pop('a')\n",
    "print(mydict)\n",
    "# 删除字典的全部元素\n",
    "mydict.clear()\n",
    "print(mydict)"
   ]
  },
  {
   "cell_type": "code",
   "execution_count": 2,
   "metadata": {},
   "outputs": [
    {
     "name": "stdout",
     "output_type": "stream",
     "text": [
      "True\n",
      "False\n"
     ]
    }
   ],
   "source": [
    "# 布尔类型\n",
    "true = True\n",
    "false = False\n",
    "print(true)\n",
    "print(false)"
   ]
  },
  {
   "cell_type": "code",
   "execution_count": 3,
   "metadata": {},
   "outputs": [
    {
     "name": "stdout",
     "output_type": "stream",
     "text": [
      "0\n",
      "1\n",
      "2\n",
      "3\n",
      "4\n"
     ]
    }
   ],
   "source": [
    "# 条件循环语句\n",
    "i = 0\n",
    "while i < 5:\n",
    "    print(i)\n",
    "    i = i + 1"
   ]
  },
  {
   "cell_type": "code",
   "execution_count": 4,
   "metadata": {},
   "outputs": [
    {
     "name": "stdout",
     "output_type": "stream",
     "text": [
      "(1, 2, 3)\n",
      "2\n"
     ]
    }
   ],
   "source": [
    "# 元组\n",
    "a = (1, 2, 3)\n",
    "print(a)\n",
    "print(a[1])"
   ]
  },
  {
   "cell_type": "code",
   "execution_count": 5,
   "metadata": {},
   "outputs": [
    {
     "name": "stdout",
     "output_type": "stream",
     "text": [
      "H\n",
      "ello\n",
      "13\n",
      "Hello, world!\n"
     ]
    }
   ],
   "source": [
    "# 字符串\n",
    "data = 'Hello, world!'\n",
    "print(data[0])\n",
    "print(data[1:5])\n",
    "print(len(data))\n",
    "print(data)"
   ]
  },
  {
   "cell_type": "code",
   "execution_count": 6,
   "metadata": {},
   "outputs": [
    {
     "name": "stdout",
     "output_type": "stream",
     "text": [
      "a    1\n",
      "b    2\n",
      "c    3\n",
      "dtype: int32\n",
      "Series中的第一个元素：\n",
      "1\n",
      "Series中的c index的元素：\n",
      "3\n"
     ]
    }
   ],
   "source": [
    "import numpy as np\n",
    "import pandas as pd\n",
    "myarray = np.array([1, 2, 3])\n",
    "index = ['a', 'b', 'c']\n",
    "myseries = pd.Series(myarray, index=index)\n",
    "print(myseries)\n",
    "print('Series中的第一个元素：')\n",
    "print(myseries[0])\n",
    "print('Series中的c index的元素：')\n",
    "print(myseries['c'])"
   ]
  },
  {
   "cell_type": "code",
   "execution_count": 7,
   "metadata": {},
   "outputs": [
    {
     "name": "stdout",
     "output_type": "stream",
     "text": [
      "      col1  col2  col3\n",
      "row1     1     2     3\n",
      "row2     2     3     4\n",
      "row3     3     4     5\n",
      "访问col3的数据：\n",
      "row1    3\n",
      "row2    4\n",
      "row3    5\n",
      "Name: col3, dtype: int32\n"
     ]
    }
   ],
   "source": [
    "import numpy as np\n",
    "import pandas as pd\n",
    "myarray = np.array([[1, 2, 3], [2, 3, 4], [3, 4, 5]])\n",
    "rowindex = ['row1', 'row2', 'row3']\n",
    "colname = ['col1', 'col2', 'col3']\n",
    "mydataframe = pd.DataFrame(data=myarray,\n",
    "                           index=rowindex, columns=colname)\n",
    "print(mydataframe)\n",
    "print('访问col3的数据：')\n",
    "print(mydataframe['col3'])"
   ]
  },
  {
   "cell_type": "code",
   "execution_count": 8,
   "metadata": {},
   "outputs": [
    {
     "name": "stdout",
     "output_type": "stream",
     "text": [
      "[1 2 3]\n",
      "(3,)\n",
      "[[1 2 3]\n",
      " [2 3 4]\n",
      " [3 4 5]]\n",
      "(3, 3)\n"
     ]
    }
   ],
   "source": [
    "import numpy as np\n",
    "# 创建数组\n",
    "myarray = np.array([1, 2, 3])\n",
    "print(myarray)\n",
    "print(myarray.shape)\n",
    "#创建多维数组\n",
    "myarray = np.array([[1, 2, 3], [2, 3, 4], [3, 4, 5]])\n",
    "print(myarray)\n",
    "print(myarray.shape)"
   ]
  },
  {
   "cell_type": "code",
   "execution_count": 9,
   "metadata": {},
   "outputs": [
    {
     "name": "stdout",
     "output_type": "stream",
     "text": [
      "向量加法运算：\n",
      "[[12 23 34]\n",
      " [23 34 45]\n",
      " [34 45 56]]\n",
      "向量乘法运算：\n",
      "[[ 11  42  93]\n",
      " [ 42  93 164]\n",
      " [ 93 164 255]]\n"
     ]
    }
   ],
   "source": [
    "import numpy as np\n",
    "# 创建多维数组\n",
    "myarray1 = np.array([[1, 2, 3], [2, 3, 4], [3, 4, 5]])\n",
    "myarray2 = np.array([[11, 21, 31], [21, 31, 41], [31, 41, 51]])\n",
    "print('向量加法运算：')\n",
    "print(myarray1 + myarray2)\n",
    "print('向量乘法运算：' )\n",
    "print(myarray1 * myarray2)"
   ]
  },
  {
   "cell_type": "code",
   "execution_count": 10,
   "metadata": {},
   "outputs": [
    {
     "name": "stdout",
     "output_type": "stream",
     "text": [
      "[[1 2 3]\n",
      " [2 3 4]\n",
      " [3 4 5]]\n",
      "(3, 3)\n",
      "这是第一行：[1 2 3]\n",
      "这是最后一行：[3 4 5]\n",
      "访问整列（3列）数据：[3 4 5]\n",
      "访问指定行（2行）和列（3列）的数据：4\n"
     ]
    }
   ],
   "source": [
    "import numpy as np\n",
    "# 创建多维数组\n",
    "myarray = np.array([[1, 2, 3], [2, 3, 4], [3, 4, 5]])\n",
    "print(myarray)\n",
    "print(myarray.shape)\n",
    "# 访问数据\n",
    "print('这是第一行：%s' % myarray[0])\n",
    "print('这是最后一行：%s' % myarray[-1])\n",
    "print('访问整列（3列）数据：%s' % myarray[:, 2])\n",
    "print('访问指定行（2行）和列（3列）的数据：%s' % myarray[1, 2])"
   ]
  },
  {
   "cell_type": "code",
   "execution_count": 11,
   "metadata": {},
   "outputs": [
    {
     "name": "stdout",
     "output_type": "stream",
     "text": [
      "523\n",
      "6.18\n"
     ]
    }
   ],
   "source": [
    "# 数值\n",
    "value = 523\n",
    "print(value)\n",
    "value = 6.18\n",
    "print(value)\n"
   ]
  },
  {
   "cell_type": "code",
   "execution_count": 12,
   "metadata": {},
   "outputs": [
    {
     "name": "stdout",
     "output_type": "stream",
     "text": [
      "None\n",
      "None\n"
     ]
    }
   ],
   "source": [
    "# 空值\n",
    "a = None\n",
    "b = a\n",
    "print(a)\n",
    "print(b)"
   ]
  },
  {
   "cell_type": "code",
   "execution_count": 13,
   "metadata": {},
   "outputs": [
    {
     "name": "stdout",
     "output_type": "stream",
     "text": [
      "1 hello True\n",
      "1\n",
      "hello\n",
      "True\n"
     ]
    }
   ],
   "source": [
    "# 多变量同时赋值运算\n",
    "a, b, c = 1, 'hello', True\n",
    "print(a, b, c)\n",
    "print(a)\n",
    "print(b)\n",
    "print(c)"
   ]
  },
  {
   "cell_type": "code",
   "execution_count": 14,
   "metadata": {},
   "outputs": [
    {
     "data": {
      "image/png": "[encoded data removed]",
      "text/plain": [
       "<Figure size 432x288 with 1 Axes>"
      ]
     },
     "metadata": {
      "needs_background": "light"
     },
     "output_type": "display_data"
    }
   ],
   "source": [
    "import matplotlib.pyplot as plt\n",
    "import numpy as np\n",
    "\n",
    "# 定义绘图的数据\n",
    "myarray1 = np.array([1, 2, 3])\n",
    "myarray2 = np.array([11, 21, 31])\n",
    "# 初始化绘图\n",
    "plt.scatter(myarray1, myarray2)\n",
    "# 设定x，y轴\n",
    "plt.xlabel('x axis')\n",
    "plt.ylabel('y axis')\n",
    "# 绘图\n",
    "plt.show()"
   ]
  },
  {
   "cell_type": "code",
   "execution_count": 15,
   "metadata": {},
   "outputs": [
    {
     "data": {
      "image/png": "[encoded data removed]",
      "text/plain": [
       "<Figure size 432x288 with 1 Axes>"
      ]
     },
     "metadata": {
      "needs_background": "light"
     },
     "output_type": "display_data"
    }
   ],
   "source": [
    "import matplotlib.pyplot as plt\n",
    "import numpy as np\n",
    "\n",
    "# 定义绘图的数据\n",
    "myarray = np.array([[1, 2, 3], [2, 3, 4], [3, 4, 5]])\n",
    "# 初始化绘图\n",
    "plt.plot(myarray)\n",
    "# 设定x，y轴\n",
    "plt.xlabel('x axis')\n",
    "plt.ylabel('y axis')\n",
    "# 绘图\n",
    "plt.show()"
   ]
  },
  {
   "cell_type": "code",
   "execution_count": 16,
   "metadata": {},
   "outputs": [
    {
     "name": "stdout",
     "output_type": "stream",
     "text": [
      "[1, 2, 3]\n",
      "[1, 2, 3, 4]\n",
      "4\n",
      "[1, 2, 5, 4]\n",
      "1\n",
      "2\n",
      "5\n",
      "4\n"
     ]
    }
   ],
   "source": [
    "# 列表\n",
    "a = [1, 2, 3]\n",
    "print(a)\n",
    "# 增加列表项\n",
    "a.append(4)\n",
    "print(a)\n",
    "print(a[3])\n",
    "# 更新列表项\n",
    "a[2] = 5\n",
    "print(a)\n",
    "for i in a:\n",
    "    print(i)"
   ]
  },
  {
   "cell_type": "code",
   "execution_count": 17,
   "metadata": {},
   "outputs": [
    {
     "name": "stdout",
     "output_type": "stream",
     "text": [
      "This is ture\n"
     ]
    }
   ],
   "source": [
    "# 条件控制语句\n",
    "value = 1\n",
    "if value == 1:\n",
    "    print('This is ture')\n",
    "elif value > 10:\n",
    "    print('it is bigger than 10? Yes it is true.')\n",
    "else:\n",
    "    print('This is false')"
   ]
  },
  {
   "cell_type": "code",
   "execution_count": 18,
   "metadata": {},
   "outputs": [
    {
     "name": "stdout",
     "output_type": "stream",
     "text": [
      "3\n"
     ]
    }
   ],
   "source": [
    "# 定义函数\n",
    "def mysum(x, y):\n",
    "    \"这是自定义函数\"\n",
    "    return x + y\n",
    "\n",
    "# 测试函数\n",
    "result = mysum(x=1, y=2)\n",
    "print(result)"
   ]
  },
  {
   "cell_type": "code",
   "execution_count": 19,
   "metadata": {},
   "outputs": [
    {
     "name": "stdout",
     "output_type": "stream",
     "text": [
      "0\n",
      "1\n",
      "2\n",
      "3\n",
      "4\n"
     ]
    }
   ],
   "source": [
    "# 循环语句\n",
    "for i in range(5):\n",
    "    print(i)"
   ]
  },
  {
   "cell_type": "code",
   "execution_count": null,
   "metadata": {},
   "outputs": [],
   "source": []
  }
 ],
 "metadata": {
  "kernelspec": {
   "display_name": "Python 3",
   "language": "python",
   "name": "python3"
  },
  "language_info": {
   "codemirror_mode": {
    "name": "ipython",
    "version": 3
   },
   "file_extension": ".py",
   "mimetype": "text/x-python",
   "name": "python",
   "nbconvert_exporter": "python",
   "pygments_lexer": "ipython3",
   "version": "3.8.5"
  },
  "toc": {
   "base_numbering": 1,
   "nav_menu": {},
   "number_sections": true,
   "sideBar": true,
   "skip_h1_title": false,
   "title_cell": "Table of Contents",
   "title_sidebar": "Contents",
   "toc_cell": false,
   "toc_position": {},
   "toc_section_display": true,
   "toc_window_display": false
  }
 },
 "nbformat": 4,
 "nbformat_minor": 4
}
