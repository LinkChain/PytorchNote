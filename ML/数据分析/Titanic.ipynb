{
 "cells": [
  {
   "cell_type": "markdown",
   "metadata": {},
   "source": [
    "Titanic数据集包含11个特征，分别是：\n",
    "\n",
    "Survived：0代表死亡，1代表存活\n",
    "\n",
    "Pclass：船舱类别，3类别最高\n",
    "\n",
    "Name、Sex、Age分别为姓名、性别、年龄，其中年龄有缺失\n",
    "\n",
    "SibSp:乘客的兄弟姐妹/配偶的个数(整数值)\n",
    "\n",
    "Parch:乘客的父母/孩子的个数(整数值)\n",
    "\n",
    "Ticket:船票号码\n",
    "\n",
    "Fare:船票价格\n",
    "\n",
    "Cabin:乘客所在船舱（数据大量缺失）\n",
    "\n",
    "Embark:乘客登船港口:S、C、Q(有缺失)\n",
    "\n",
    "原文链接：https://blog.csdn.net/weixin_44615820/article/details/88621562"
   ]
  },
  {
   "cell_type": "code",
   "execution_count": 3,
   "metadata": {
    "scrolled": true
   },
   "outputs": [
    {
     "data": {
      "text/html": [
       "<div>\n",
       "<style scoped>\n",
       "    .dataframe tbody tr th:only-of-type {\n",
       "        vertical-align: middle;\n",
       "    }\n",
       "\n",
       "    .dataframe tbody tr th {\n",
       "        vertical-align: top;\n",
       "    }\n",
       "\n",
       "    .dataframe thead th {\n",
       "        text-align: right;\n",
       "    }\n",
       "</style>\n",
       "<table border=\"1\" class=\"dataframe\">\n",
       "  <thead>\n",
       "    <tr style=\"text-align: right;\">\n",
       "      <th></th>\n",
       "      <th>Survived</th>\n",
       "      <th>Pclass</th>\n",
       "      <th>Sex</th>\n",
       "      <th>Age</th>\n",
       "      <th>Embarked</th>\n",
       "    </tr>\n",
       "  </thead>\n",
       "  <tbody>\n",
       "    <tr>\n",
       "      <th>0</th>\n",
       "      <td>0</td>\n",
       "      <td>3</td>\n",
       "      <td>male</td>\n",
       "      <td>22.0</td>\n",
       "      <td>S</td>\n",
       "    </tr>\n",
       "    <tr>\n",
       "      <th>1</th>\n",
       "      <td>1</td>\n",
       "      <td>1</td>\n",
       "      <td>female</td>\n",
       "      <td>38.0</td>\n",
       "      <td>C</td>\n",
       "    </tr>\n",
       "    <tr>\n",
       "      <th>2</th>\n",
       "      <td>1</td>\n",
       "      <td>3</td>\n",
       "      <td>female</td>\n",
       "      <td>26.0</td>\n",
       "      <td>S</td>\n",
       "    </tr>\n",
       "    <tr>\n",
       "      <th>3</th>\n",
       "      <td>1</td>\n",
       "      <td>1</td>\n",
       "      <td>female</td>\n",
       "      <td>35.0</td>\n",
       "      <td>S</td>\n",
       "    </tr>\n",
       "    <tr>\n",
       "      <th>4</th>\n",
       "      <td>0</td>\n",
       "      <td>3</td>\n",
       "      <td>male</td>\n",
       "      <td>35.0</td>\n",
       "      <td>S</td>\n",
       "    </tr>\n",
       "    <tr>\n",
       "      <th>5</th>\n",
       "      <td>0</td>\n",
       "      <td>3</td>\n",
       "      <td>male</td>\n",
       "      <td>NaN</td>\n",
       "      <td>Q</td>\n",
       "    </tr>\n",
       "    <tr>\n",
       "      <th>6</th>\n",
       "      <td>0</td>\n",
       "      <td>1</td>\n",
       "      <td>male</td>\n",
       "      <td>54.0</td>\n",
       "      <td>S</td>\n",
       "    </tr>\n",
       "    <tr>\n",
       "      <th>7</th>\n",
       "      <td>0</td>\n",
       "      <td>3</td>\n",
       "      <td>male</td>\n",
       "      <td>2.0</td>\n",
       "      <td>S</td>\n",
       "    </tr>\n",
       "    <tr>\n",
       "      <th>8</th>\n",
       "      <td>1</td>\n",
       "      <td>3</td>\n",
       "      <td>female</td>\n",
       "      <td>27.0</td>\n",
       "      <td>S</td>\n",
       "    </tr>\n",
       "    <tr>\n",
       "      <th>9</th>\n",
       "      <td>1</td>\n",
       "      <td>2</td>\n",
       "      <td>female</td>\n",
       "      <td>14.0</td>\n",
       "      <td>C</td>\n",
       "    </tr>\n",
       "  </tbody>\n",
       "</table>\n",
       "</div>"
      ],
      "text/plain": [
       "   Survived  Pclass     Sex   Age Embarked\n",
       "0         0       3    male  22.0        S\n",
       "1         1       1  female  38.0        C\n",
       "2         1       3  female  26.0        S\n",
       "3         1       1  female  35.0        S\n",
       "4         0       3    male  35.0        S\n",
       "5         0       3    male   NaN        Q\n",
       "6         0       1    male  54.0        S\n",
       "7         0       3    male   2.0        S\n",
       "8         1       3  female  27.0        S\n",
       "9         1       2  female  14.0        C"
      ]
     },
     "execution_count": 3,
     "metadata": {},
     "output_type": "execute_result"
    }
   ],
   "source": [
    "import pandas as pd\n",
    "import matplotlib\n",
    "import matplotlib.pyplot as plt\n",
    "import seaborn as sns\n",
    "import numpy as np\n",
    "from sklearn.model_selection import train_test_split\n",
    "from sklearn.model_selection import GridSearchCV\n",
    "from sklearn.tree import DecisionTreeClassifier\n",
    "import pydotplus\n",
    "from sklearn import metrics\n",
    "from sklearn.tree import export_graphviz\n",
    "\n",
    "titanic_=pd.read_csv('../data/titanic.csv')\n",
    "#舍去无关变量\n",
    "titanic=titanic_.drop(['PassengerId','Cabin','Name','Ticket','SibSp','Parch','Fare'],axis=1)\n",
    "titanic.head(10)"
   ]
  },
  {
   "cell_type": "code",
   "execution_count": 4,
   "metadata": {},
   "outputs": [],
   "source": [
    "titanic[\"Age\"]=titanic[\"Age\"].fillna(titanic[\"Age\"].mean())\n",
    "titanic[\"Embarked\"]=titanic[\"Embarked\"].fillna(\"S\")"
   ]
  },
  {
   "cell_type": "markdown",
   "metadata": {},
   "source": [
    "Pclass是数值型变量，我们将其转化为类别型，然后进行哑变量的处理。比如说Pclass的是三个等级可以表示为001、010、100，这样在决策树上只要判断是否大于或小于0.5就可以区分了，Embarked和Sex也是同理。"
   ]
  },
  {
   "cell_type": "code",
   "execution_count": null,
   "metadata": {},
   "outputs": [],
   "source": [
    "#Pclass,Sex为数值型变量，将其转化为类别型，进行哑变量处理\n",
    "titanic.Pclass=titanic.Pclass.astype('category')\n",
    "#哑变量处理\n",
    "dummy=pd.get_dummies(titanic[['Sex','Pclass','Embarked']])\n",
    "#水平合并原数据集和哑变量\n",
    "titanic=pd.concat([titanic,dummy],axis=1)\n",
    "#删除为处理时时变量，保留哑变量\n",
    "titanic.drop(['Sex','Pclass','Embarked'],inplace=True,axis=1)\n",
    "titanic.head(10)"
   ]
  },
  {
   "cell_type": "markdown",
   "metadata": {},
   "source": [
    "为了防止过拟合，这里采用预剪枝的方法，限制决策树的最大深度、最小的非叶子结点的变量值与最小叶子结点变量值。采用网格搜索法，来对参数进行调优。\n",
    "GridSearchCV方法，只要把参数输进去，就能给出最优化的结果和参数。比如SVM的惩罚因子C，核函数kernel，gamma参数等"
   ]
  },
  {
   "cell_type": "code",
   "execution_count": 6,
   "metadata": {},
   "outputs": [
    {
     "name": "stdout",
     "output_type": "stream",
     "text": [
      "Index(['Age', 'Sex_female', 'Sex_male', 'Pclass_1', 'Pclass_2', 'Pclass_3',\n",
      "       'Embarked_C', 'Embarked_Q', 'Embarked_S'],\n",
      "      dtype='object')\n"
     ]
    }
   ],
   "source": [
    "#数据分割\n",
    "predictors=titanic.columns[1:]\n",
    "X_train,X_test,y_train,y_test=train_test_split(titanic[predictors],titanic['Survived'],test_size=0.2)\n",
    "print(predictors)"
   ]
  },
  {
   "cell_type": "code",
   "execution_count": 7,
   "metadata": {},
   "outputs": [
    {
     "name": "stderr",
     "output_type": "stream",
     "text": [
      "C:\\Users\\Administrator\\Anaconda3\\lib\\site-packages\\sklearn\\model_selection\\_search.py:841: DeprecationWarning: The default of the `iid` parameter will change from True to False in version 0.22 and will be removed in 0.24. This will change numeric results when test-set sizes are unequal.\n",
      "  DeprecationWarning)\n"
     ]
    },
    {
     "data": {
      "text/plain": [
       "{'max_depth': 8, 'min_samples_leaf': 4, 'min_samples_split': 6}"
      ]
     },
     "execution_count": 7,
     "metadata": {},
     "output_type": "execute_result"
    }
   ],
   "source": [
    "#预剪枝，采用网格搜索法调参\n",
    "max_depth=[4,5,6,7,8]\n",
    "min_samples_split=[2,4,6,8,10]\n",
    "min_samples_leaf=[2,4,6,8,10]\n",
    "parameters={'max_depth':max_depth,'min_samples_split':min_samples_split,'min_samples_leaf':min_samples_leaf}\n",
    "\n",
    "grid_search=GridSearchCV(estimator=DecisionTreeClassifier(),param_grid=parameters,cv=10,n_jobs=-1)\n",
    "grid_search.fit(X_train,y_train)\n",
    "grid_search.best_params_"
   ]
  },
  {
   "cell_type": "code",
   "execution_count": 10,
   "metadata": {},
   "outputs": [
    {
     "name": "stdout",
     "output_type": "stream",
     "text": [
      "决策树模型在测试集上的准确率为： 0.7932960893854749\n"
     ]
    }
   ],
   "source": [
    "#根据调参结果构建决策树\n",
    "dtc=DecisionTreeClassifier(max_depth=8,min_samples_split=4,min_samples_leaf=6)\n",
    "dtc.fit(X_train,y_train)\n",
    "y_predict=dtc.predict(X_test)\n",
    "print(\"决策树模型在测试集上的准确率为：\",metrics.accuracy_score(y_test,y_predict))"
   ]
  },
  {
   "cell_type": "code",
   "execution_count": 9,
   "metadata": {},
   "outputs": [
    {
     "data": {
      "text/plain": [
       "True"
      ]
     },
     "execution_count": 9,
     "metadata": {},
     "output_type": "execute_result"
    }
   ],
   "source": [
    "dot_data = export_graphviz(dtc,out_file=None,feature_names=predictors,class_names=\"Survived\",filled=True, rounded=True,special_characters=True)\n",
    "graph = pydotplus.graph_from_dot_data(dot_data)\n",
    "  ###保存图像到pdf文件\n",
    "graph.write_pdf(\"../out/titanic_tree.pdf\")"
   ]
  },
  {
   "cell_type": "code",
   "execution_count": 13,
   "metadata": {},
   "outputs": [
    {
     "name": "stdout",
     "output_type": "stream",
     "text": [
      "随机森林模型在训练集上的准确率为： 0.9101123595505618\n",
      "随机森林模型在测试集上的准确率为： 0.8044692737430168\n"
     ]
    }
   ],
   "source": [
    "#构建随机森林模型\n",
    "from sklearn.ensemble import RandomForestClassifier\n",
    "\n",
    "RF=RandomForestClassifier(n_estimators=233,random_state=1234)\n",
    "RF.fit(X_train,y_train)\n",
    "RF_predict=RF.predict(X_test)\n",
    "print(\"随机森林模型在训练集上的准确率为：\",metrics.accuracy_score(y_train,RF.predict(X_train)))\n",
    "print(\"随机森林模型在测试集上的准确率为：\",metrics.accuracy_score(y_test,RF_predict))"
   ]
  },
  {
   "cell_type": "code",
   "execution_count": 12,
   "metadata": {},
   "outputs": [
    {
     "data": {
      "image/png": "[encoded data removed]",
      "text/plain": [
       "<Figure size 432x288 with 1 Axes>"
      ]
     },
     "metadata": {
      "needs_background": "light"
     },
     "output_type": "display_data"
    }
   ],
   "source": [
    "#影响乘客是否幸存的重要因素\n",
    "importance=RF.feature_importances_\n",
    "series=pd.Series(importance,index=X_train.columns)\n",
    "series.sort_values(ascending=True).plot('barh')\n",
    "plt.show()"
   ]
  },
  {
   "cell_type": "code",
   "execution_count": null,
   "metadata": {},
   "outputs": [],
   "source": []
  }
 ],
 "metadata": {
  "kernelspec": {
   "display_name": "Python 3",
   "language": "python",
   "name": "python3"
  },
  "language_info": {
   "codemirror_mode": {
    "name": "ipython",
    "version": 3
   },
   "file_extension": ".py",
   "mimetype": "text/x-python",
   "name": "python",
   "nbconvert_exporter": "python",
   "pygments_lexer": "ipython3",
   "version": "3.7.3"
  }
 },
 "nbformat": 4,
 "nbformat_minor": 2
}
