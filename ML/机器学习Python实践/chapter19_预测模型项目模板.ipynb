{
 "cells": [
  {
   "cell_type": "markdown",
   "metadata": {},
   "source": [
    "# Python机器学习项目模版\n",
    "\n",
    "# 1. 准备\n",
    "# a) 导入类库\n",
    "# b) 导入数据集\n",
    "\n",
    "# 2. 理解数据\n",
    "# a) 描述性统计\n",
    "# b) 数据可视化\n",
    "\n",
    "# 3. 数据准备\n",
    "# a) 数据清洗\n",
    "# b) 特征选择\n",
    "# c) 数据转换\n",
    "\n",
    "# 4. 评估算法\n",
    "# a) 分离数据集\n",
    "# b) 评估选项和评估矩阵\n",
    "# c) 算法审查\n",
    "# d) 算法比较\n",
    "\n",
    "# 5. 改善模型\n",
    "# a) 算法调参\n",
    "# b) 集成算法\n",
    "\n",
    "# 6. 结果部署\n",
    "# a) 预测评估数据集\n",
    "# b) 利用整个数据集生产模型\n",
    "# c) 序列化模型"
   ]
  },
  {
   "cell_type": "code",
   "execution_count": null,
   "metadata": {},
   "outputs": [],
   "source": []
  }
 ],
 "metadata": {
  "kernelspec": {
   "display_name": "Python 3",
   "language": "python",
   "name": "python3"
  },
  "language_info": {
   "codemirror_mode": {
    "name": "ipython",
    "version": 3
   },
   "file_extension": ".py",
   "mimetype": "text/x-python",
   "name": "python",
   "nbconvert_exporter": "python",
   "pygments_lexer": "ipython3",
   "version": "3.7.3"
  }
 },
 "nbformat": 4,
 "nbformat_minor": 2
}
