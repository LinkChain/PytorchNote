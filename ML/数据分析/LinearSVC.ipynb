{
 "cells": [
  {
   "cell_type": "code",
   "execution_count": 2,
   "metadata": {},
   "outputs": [
    {
     "name": "stdout",
     "output_type": "stream",
     "text": [
      "准确率： 0.9488888888888889\n",
      "其他评估数据：\n",
      "               precision    recall  f1-score   support\n",
      "\n",
      "           0       0.92      0.97      0.94        35\n",
      "           1       0.95      0.98      0.96        54\n",
      "           2       0.98      1.00      0.99        44\n",
      "           3       0.93      0.93      0.93        46\n",
      "           4       0.97      1.00      0.99        35\n",
      "           5       0.94      0.94      0.94        48\n",
      "           6       0.96      0.98      0.97        51\n",
      "           7       0.90      1.00      0.95        35\n",
      "           8       0.98      0.83      0.90        58\n",
      "           9       0.95      0.91      0.93        44\n",
      "\n",
      "   micro avg       0.95      0.95      0.95       450\n",
      "   macro avg       0.95      0.95      0.95       450\n",
      "weighted avg       0.95      0.95      0.95       450\n",
      "\n"
     ]
    },
    {
     "name": "stderr",
     "output_type": "stream",
     "text": [
      "C:\\Users\\Administrator\\Anaconda3\\lib\\site-packages\\sklearn\\svm\\base.py:931: ConvergenceWarning: Liblinear failed to converge, increase the number of iterations.\n",
      "  \"the number of iterations.\", ConvergenceWarning)\n"
     ]
    },
    {
     "data": {
      "text/plain": [
       "'\\n准确率： 0.9488888888888889\\n其他评估数据：  精确率      召回率  f1指标     数据个数\\n              precision    recall  f1-score   support\\n\\n          0       0.92      0.97      0.94        35\\n          1       0.95      0.98      0.96        54\\n          2       0.98      1.00      0.99        44\\n          3       0.93      0.93      0.93        46\\n          4       0.97      1.00      0.99        35\\n          5       0.94      0.94      0.94        48\\n          6       0.96      0.98      0.97        51\\n          7       0.90      1.00      0.95        35\\n          8       0.98      0.83      0.90        58\\n          9       0.95      0.91      0.93        44\\n\\navg / total       0.95      0.95      0.95       450\\n'"
      ]
     },
     "execution_count": 2,
     "metadata": {},
     "output_type": "execute_result"
    }
   ],
   "source": [
    "# 导入手写字体加载器\n",
    "from sklearn.datasets import load_digits\n",
    "from sklearn.model_selection import train_test_split\n",
    "from sklearn.preprocessing import StandardScaler\n",
    "from sklearn.svm import LinearSVC\n",
    "from sklearn.metrics import classification_report\n",
    "\n",
    "'''\n",
    "支持向量机\n",
    "根据训练样本的分布，搜索所有可能的线性分类器最佳的一个。\n",
    "从高纬度的数据中筛选最有效的少量训练样本。\n",
    "节省数据内存，提高预测性能\n",
    "但是付出更多的cpu和计算时间\n",
    "'''\n",
    "\n",
    "'''\n",
    "1 获取数据\n",
    "'''\n",
    "# 通过数据加载器获得手写字体数字的数码图像数据并存储在digits变量中\n",
    "digits = load_digits()\n",
    "# 查看数据的特征维度和规模\n",
    "# print(digits.data.shape)  # (1797, 64)\n",
    "\n",
    "'''\n",
    "2 分割训练集合和测试集合\n",
    "'''\n",
    "x_train, x_test, y_train, y_test = train_test_split(digits.data,\n",
    "                                                    digits.target,\n",
    "                                                    test_size=0.25,\n",
    "                                                    random_state=33)\n",
    "\n",
    "'''\n",
    "3 使用支持向量机分类模型对数字图像进行识别\n",
    "'''\n",
    "# 对训练数据和测试数据进行标准化\n",
    "ss = StandardScaler()\n",
    "x_train = ss.fit_transform(x_train)\n",
    "x_test = ss.fit_transform(x_test)\n",
    "\n",
    "# 初始化线性假设的支持向量机分类器\n",
    "lsvc = LinearSVC()\n",
    "# 进行训练\n",
    "lsvc.fit(x_train, y_train)\n",
    "# 利用训练好的模型对测试集合进行预测 测试结果存储在y_predict中\n",
    "y_predict = lsvc.predict(x_test)\n",
    "\n",
    "'''\n",
    "4 支持向量机分类器 模型能力评估\n",
    "'''\n",
    "print(\"准确率：\", lsvc.score(x_test, y_test))\n",
    "print(\"其他评估数据：\\n\", classification_report(y_test, y_predict, target_names=digits.target_names.astype(str)))\n",
    "'''\n",
    "准确率： 0.9488888888888889\n",
    "其他评估数据：  精确率      召回率  f1指标     数据个数\n",
    "              precision    recall  f1-score   support\n",
    "\n",
    "          0       0.92      0.97      0.94        35\n",
    "          1       0.95      0.98      0.96        54\n",
    "          2       0.98      1.00      0.99        44\n",
    "          3       0.93      0.93      0.93        46\n",
    "          4       0.97      1.00      0.99        35\n",
    "          5       0.94      0.94      0.94        48\n",
    "          6       0.96      0.98      0.97        51\n",
    "          7       0.90      1.00      0.95        35\n",
    "          8       0.98      0.83      0.90        58\n",
    "          9       0.95      0.91      0.93        44\n",
    "\n",
    "avg / total       0.95      0.95      0.95       450\n",
    "'''"
   ]
  },
  {
   "cell_type": "code",
   "execution_count": null,
   "metadata": {},
   "outputs": [],
   "source": []
  }
 ],
 "metadata": {
  "kernelspec": {
   "display_name": "Python 3",
   "language": "python",
   "name": "python3"
  },
  "language_info": {
   "codemirror_mode": {
    "name": "ipython",
    "version": 3
   },
   "file_extension": ".py",
   "mimetype": "text/x-python",
   "name": "python",
   "nbconvert_exporter": "python",
   "pygments_lexer": "ipython3",
   "version": "3.7.3"
  }
 },
 "nbformat": 4,
 "nbformat_minor": 2
}
