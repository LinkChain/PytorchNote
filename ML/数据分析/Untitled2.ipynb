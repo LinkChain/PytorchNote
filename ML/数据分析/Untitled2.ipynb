{
 "cells": [
  {
   "cell_type": "code",
   "execution_count": 1,
   "metadata": {},
   "outputs": [
    {
     "name": "stdout",
     "output_type": "stream",
     "text": [
      "[(1950, 2000], (1950, 2000], (1900, 1950], (1900, 1950], (1950, 2000]]\n",
      "Categories (2, interval[int64]): [(1900, 1950] < (1950, 2000]]\n"
     ]
    }
   ],
   "source": [
    "# coding:utf-8\n",
    "import pandas as pd\n",
    "\n",
    "year = [1992, 1983, 1922, 1932, 1973]   # 待分箱数据\n",
    "bins = [1900,  1950,  2000]   # 指定箱子的分界点\n",
    "result = pd.cut(year, bins)\n",
    "print(result)"
   ]
  },
  {
   "cell_type": "code",
   "execution_count": 2,
   "metadata": {},
   "outputs": [
    {
     "name": "stdout",
     "output_type": "stream",
     "text": [
      "(1950, 2000]    3\n",
      "(1900, 1950]    2\n",
      "dtype: int64\n"
     ]
    }
   ],
   "source": [
    "print(pd.value_counts(result))   # 对不同箱子中的数进行计数"
   ]
  },
  {
   "cell_type": "code",
   "execution_count": 3,
   "metadata": {},
   "outputs": [
    {
     "name": "stdout",
     "output_type": "stream",
     "text": [
      "[1 1 0 0 1]\n"
     ]
    }
   ],
   "source": [
    "result2 = pd.cut(year, bins,labels=False) # labels参数为False时，返回结果中用不同的整数作为箱子的指示符\n",
    "print(result2)"
   ]
  },
  {
   "cell_type": "code",
   "execution_count": 4,
   "metadata": {},
   "outputs": [
    {
     "name": "stdout",
     "output_type": "stream",
     "text": [
      "1    3\n",
      "0    2\n",
      "dtype: int64\n"
     ]
    }
   ],
   "source": [
    "print(pd.value_counts(result2))   # 对不同箱子中的数进行计数"
   ]
  },
  {
   "cell_type": "code",
   "execution_count": 5,
   "metadata": {},
   "outputs": [
    {
     "name": "stdout",
     "output_type": "stream",
     "text": [
      "50_after     3\n",
      "50_before    2\n",
      "dtype: int64\n"
     ]
    }
   ],
   "source": [
    "# 可以将想要指定给不同箱子的标签传递给labels参数\n",
    "group_names = [ '50_before', '50_after']\n",
    "result3 = pd.cut(year, bins, labels=group_names)\n",
    "print(pd.value_counts(result3))"
   ]
  },
  {
   "cell_type": "code",
   "execution_count": 10,
   "metadata": {},
   "outputs": [
    {
     "name": "stdout",
     "output_type": "stream",
     "text": [
      "[(1983.0, 1992.0], (1973.0, 1983.0], (1921.999, 1932.0], (1921.999, 1932.0], (1932.0, 1973.0]]\n",
      "Categories (4, interval[float64]): [(1921.999, 1932.0] < (1932.0, 1973.0] < (1973.0, 1983.0] < (1983.0, 1992.0]]\n"
     ]
    }
   ],
   "source": [
    "type(year)\n",
    "result4 = pd.qcut(year,q=4)   # 参数q指定所分箱子的数量 \n",
    "print(result4)"
   ]
  },
  {
   "cell_type": "code",
   "execution_count": 7,
   "metadata": {},
   "outputs": [
    {
     "name": "stdout",
     "output_type": "stream",
     "text": [
      "(1921.999, 1932.0]    2\n",
      "(1983.0, 1992.0]      1\n",
      "(1973.0, 1983.0]      1\n",
      "(1932.0, 1973.0]      1\n",
      "dtype: int64\n"
     ]
    }
   ],
   "source": [
    "print(pd.value_counts(result4)) "
   ]
  },
  {
   "cell_type": "code",
   "execution_count": null,
   "metadata": {},
   "outputs": [],
   "source": []
  }
 ],
 "metadata": {
  "kernelspec": {
   "display_name": "Python 3",
   "language": "python",
   "name": "python3"
  },
  "language_info": {
   "codemirror_mode": {
    "name": "ipython",
    "version": 3
   },
   "file_extension": ".py",
   "mimetype": "text/x-python",
   "name": "python",
   "nbconvert_exporter": "python",
   "pygments_lexer": "ipython3",
   "version": "3.7.3"
  }
 },
 "nbformat": 4,
 "nbformat_minor": 2
}
