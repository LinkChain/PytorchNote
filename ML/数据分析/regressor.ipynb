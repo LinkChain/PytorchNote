{
 "cells": [
  {
   "cell_type": "code",
   "execution_count": null,
   "metadata": {},
   "outputs": [],
   "source": [
    "#线性：线性回归算法、岭回归算法（脊回归算法）、套索回归算法、弹性网络（ Elastic Net ）回归算法。\n",
    "#非线性：K 近邻算法 CKNN、分类与回归树算法、支持向量机SVM"
   ]
  },
  {
   "cell_type": "code",
   "execution_count": 9,
   "metadata": {},
   "outputs": [
    {
     "name": "stdout",
     "output_type": "stream",
     "text": [
      "Linear Regression: -34.705\n"
     ]
    }
   ],
   "source": [
    "from pandas import read_csv\n",
    "from sklearn.model_selection import KFold\n",
    "from sklearn.model_selection import cross_val_score\n",
    "from sklearn.linear_model import LinearRegression\n",
    "import warnings\n",
    "warnings.filterwarnings(\"ignore\")\n",
    "# 导入数据\n",
    "filename = 'data/housing.csv'\n",
    "names = ['CRIM', 'ZN', 'INDUS', 'CHAS', 'NOX', 'RM', 'AGE', 'DIS',\n",
    "         'RAD', 'TAX', 'PRTATIO', 'B', 'LSTAT', 'MEDV']\n",
    "data = read_csv(filename, names=names, delim_whitespace=True)\n",
    "# 将数据分为输入数据和输出结果\n",
    "array = data.values\n",
    "X = array[:, 0:13]\n",
    "Y = array[:, 13]\n",
    "n_splits = 10\n",
    "seed = 7\n",
    "kfold = KFold(n_splits=n_splits, random_state=seed)\n",
    "model = LinearRegression() #线性回归算法\n",
    "scoring = 'neg_mean_squared_error'\n",
    "result = cross_val_score(model, X, Y, cv=kfold, scoring=scoring)\n",
    "print('Linear Regression: %.3f' % result.mean())"
   ]
  },
  {
   "cell_type": "code",
   "execution_count": 3,
   "metadata": {},
   "outputs": [
    {
     "name": "stdout",
     "output_type": "stream",
     "text": [
      "Ridge Regression: -34.078\n"
     ]
    }
   ],
   "source": [
    "from sklearn.linear_model import Ridge\n",
    "model = Ridge() #岭回归算法（脊回归算法）\n",
    "scoring = 'neg_mean_squared_error' \n",
    "result = cross_val_score(model, X, Y, cv=kfold, scoring=scoring)\n",
    "print('Ridge Regression: %.3f' % result.mean())"
   ]
  },
  {
   "cell_type": "code",
   "execution_count": 4,
   "metadata": {},
   "outputs": [
    {
     "name": "stdout",
     "output_type": "stream",
     "text": [
      "Lasso Regression: -34.464\n"
     ]
    }
   ],
   "source": [
    "from sklearn.linear_model import Lasso\n",
    "model = Lasso() #套索回归算法\n",
    "scoring = 'neg_mean_squared_error'\n",
    "result = cross_val_score(model, X, Y, cv=kfold, scoring=scoring)\n",
    "print('Lasso Regression: %.3f' % result.mean())"
   ]
  },
  {
   "cell_type": "code",
   "execution_count": 5,
   "metadata": {},
   "outputs": [
    {
     "name": "stdout",
     "output_type": "stream",
     "text": [
      "ElasticNet Regression: -31.165\n"
     ]
    }
   ],
   "source": [
    "from sklearn.linear_model import ElasticNet\n",
    "model = ElasticNet() #弹性网络\n",
    "scoring = 'neg_mean_squared_error'\n",
    "result = cross_val_score(model, X, Y, cv=kfold, scoring=scoring)\n",
    "print('ElasticNet Regression: %.3f' % result.mean())"
   ]
  },
  {
   "cell_type": "code",
   "execution_count": 6,
   "metadata": {},
   "outputs": [
    {
     "name": "stdout",
     "output_type": "stream",
     "text": [
      "KNeighbors Regression: -107.287\n"
     ]
    }
   ],
   "source": [
    "from sklearn.neighbors import KNeighborsRegressor\n",
    "model = KNeighborsRegressor()#K 近邻算法 CKNN\n",
    "scoring = 'neg_mean_squared_error'\n",
    "result = cross_val_score(model, X, Y, cv=kfold, scoring=scoring)\n",
    "print('KNeighbors Regression: %.3f' % result.mean())"
   ]
  },
  {
   "cell_type": "code",
   "execution_count": 7,
   "metadata": {},
   "outputs": [
    {
     "name": "stdout",
     "output_type": "stream",
     "text": [
      "CART: -36.391\n"
     ]
    }
   ],
   "source": [
    "from sklearn.tree import DecisionTreeRegressor\n",
    "model = DecisionTreeRegressor() #分类与回归树算法\n",
    "scoring = 'neg_mean_squared_error' \n",
    "result = cross_val_score(model, X, Y, cv=kfold, scoring=scoring)\n",
    "print('CART: %.3f' % result.mean())"
   ]
  },
  {
   "cell_type": "code",
   "execution_count": 10,
   "metadata": {},
   "outputs": [
    {
     "name": "stdout",
     "output_type": "stream",
     "text": [
      "SVM: -91.048\n"
     ]
    }
   ],
   "source": [
    "from sklearn.svm import SVR\n",
    "model = SVR() #支持向量机SVM\n",
    "scoring = 'neg_mean_squared_error'\n",
    "result = cross_val_score(model, X, Y, cv=kfold, scoring=scoring)\n",
    "print('SVM: %.3f' % result.mean())"
   ]
  },
  {
   "cell_type": "code",
   "execution_count": null,
   "metadata": {},
   "outputs": [],
   "source": []
  }
 ],
 "metadata": {
  "kernelspec": {
   "display_name": "Python 3",
   "language": "python",
   "name": "python3"
  },
  "language_info": {
   "codemirror_mode": {
    "name": "ipython",
    "version": 3
   },
   "file_extension": ".py",
   "mimetype": "text/x-python",
   "name": "python",
   "nbconvert_exporter": "python",
   "pygments_lexer": "ipython3",
   "version": "3.7.3"
  }
 },
 "nbformat": 4,
 "nbformat_minor": 2
}
