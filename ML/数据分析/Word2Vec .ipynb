{
 "cells": [
  {
   "cell_type": "code",
   "execution_count": 1,
   "metadata": {},
   "outputs": [
    {
     "ename": "ModuleNotFoundError",
     "evalue": "No module named 'gensim'",
     "output_type": "error",
     "traceback": [
      "\u001b[1;31m---------------------------------------------------------------------------\u001b[0m",
      "\u001b[1;31mModuleNotFoundError\u001b[0m                       Traceback (most recent call last)",
      "\u001b[1;32m<ipython-input-1-49b46f9dc1e4>\u001b[0m in \u001b[0;36m<module>\u001b[1;34m\u001b[0m\n\u001b[0;32m      2\u001b[0m \u001b[1;32mfrom\u001b[0m \u001b[0mbs4\u001b[0m \u001b[1;32mimport\u001b[0m \u001b[0mBeautifulSoup\u001b[0m\u001b[1;33m\u001b[0m\u001b[1;33m\u001b[0m\u001b[0m\n\u001b[0;32m      3\u001b[0m \u001b[1;32mimport\u001b[0m \u001b[0mnltk\u001b[0m\u001b[1;33m,\u001b[0m \u001b[0mre\u001b[0m\u001b[1;33m\u001b[0m\u001b[1;33m\u001b[0m\u001b[0m\n\u001b[1;32m----> 4\u001b[1;33m \u001b[1;32mfrom\u001b[0m \u001b[0mgensim\u001b[0m\u001b[1;33m.\u001b[0m\u001b[0mmodels\u001b[0m \u001b[1;32mimport\u001b[0m \u001b[0mword2vec\u001b[0m\u001b[1;33m\u001b[0m\u001b[1;33m\u001b[0m\u001b[0m\n\u001b[0m\u001b[0;32m      5\u001b[0m \u001b[1;33m\u001b[0m\u001b[0m\n\u001b[0;32m      6\u001b[0m \u001b[1;31m# nltk.download('punkt')\u001b[0m\u001b[1;33m\u001b[0m\u001b[1;33m\u001b[0m\u001b[1;33m\u001b[0m\u001b[0m\n",
      "\u001b[1;31mModuleNotFoundError\u001b[0m: No module named 'gensim'"
     ]
    }
   ],
   "source": [
    "from sklearn.datasets import fetch_20newsgroups\n",
    "from bs4 import BeautifulSoup\n",
    "import nltk, re\n",
    "from gensim.models import word2vec\n",
    "\n",
    "# nltk.download('punkt')\n",
    "\n",
    "\n",
    "'''\n",
    "词向量技术 Word2Vec \n",
    "    每个连续词汇片段都会对后面有一定制约 称为上下文context\n",
    "    \n",
    "    找到句子之间语义层面的联系\n",
    "    \n",
    "'''\n",
    "\n",
    "# 联网下载新闻数据\n",
    "news = fetch_20newsgroups(subset=\"all\")\n",
    "x, y = news.data, news.target\n",
    "\n",
    "# 定义一个函数 将每条新闻中的句子分离,并返回一个句子的列表\n",
    "def news_to_sentences(news):\n",
    "    news_text = BeautifulSoup(news).get_text()\n",
    "    tokenizer = nltk.data.load(\"tokenizers/punkt/english.pickle\")\n",
    "    raw_sentences = tokenizer.tokenize(news_text)\n",
    "    sentences = []\n",
    "    for sent in raw_sentences:\n",
    "        temp = re.sub(\"[^a-zA-Z]\", \" \", sent.lower().strip()).split()\n",
    "        sentences.append(temp)\n",
    "\n",
    "    return sentences\n",
    "\n",
    "# 将长新闻中的句子剥离出来用于训练\n",
    "sentences = []\n",
    "for i in x:\n",
    "    sentence_list = news_to_sentences(i)\n",
    "    sentences += sentence_list\n",
    "\n",
    "\n",
    "# 配置词向量的维度\n",
    "num_features = 300\n",
    "# 保证被考虑的词汇的频度\n",
    "min_word_count = 20\n",
    "# 并行计算使用cpu核心数量\n",
    "num_workers = 2\n",
    "# 定义训练词向量的上下文窗口大小\n",
    "context = 5\n",
    "downsapling = 1e-3\n",
    "\n",
    "# 训练词向量模型\n",
    "model = word2vec.Word2Vec(sentences,\n",
    "                          workers=num_workers,\n",
    "                          size=num_features,\n",
    "                          min_count=min_word_count,\n",
    "                          window=context,\n",
    "                          sample=downsapling)\n",
    "# 这个设定代表当前训练好的词向量为最终版, 也可以加速模型训练的速度\n",
    "model.init_sims(replace=True)\n",
    "\n",
    "# 利用训练好的模型 寻找文本中与college相关的十个词汇\n",
    "print(model.most_similar(\"college\"))\n",
    "'''\n",
    "[('wisconsin', 0.7664438486099243), \n",
    "('osteopathic', 0.7474539279937744), \n",
    "('madison', 0.7433826923370361), \n",
    "('univ', 0.7296794652938843), \n",
    "('melbourne', 0.7212647199630737), \n",
    "('walla', 0.7068545818328857), \n",
    "('maryland', 0.7038443088531494), \n",
    "('carnegie', 0.7038302421569824), \n",
    "('institute', 0.7003713846206665), \n",
    "('informatics', 0.6968873143196106)]\n",
    "'''"
   ]
  },
  {
   "cell_type": "code",
   "execution_count": null,
   "metadata": {},
   "outputs": [],
   "source": []
  }
 ],
 "metadata": {
  "kernelspec": {
   "display_name": "Python 3",
   "language": "python",
   "name": "python3"
  },
  "language_info": {
   "codemirror_mode": {
    "name": "ipython",
    "version": 3
   },
   "file_extension": ".py",
   "mimetype": "text/x-python",
   "name": "python",
   "nbconvert_exporter": "python",
   "pygments_lexer": "ipython3",
   "version": "3.7.3"
  }
 },
 "nbformat": 4,
 "nbformat_minor": 2
}
