{
 "cells": [
  {
   "cell_type": "code",
   "execution_count": 2,
   "metadata": {},
   "outputs": [
    {
     "name": "stdout",
     "output_type": "stream",
     "text": [
      "线性核函数支持向量机的默认评估值为： 0.650659546421538\n",
      "线性核函数支持向量机的R_squared值为： 0.650659546421538\n",
      "线性核函数支持向量机的均方误差为: 27.088311013556027\n",
      "线性核函数支持向量机的平均绝对误差为: 3.4328013877599624\n",
      "对多项式核函数的默认评估值为： 0.40365065102550846\n",
      "对多项式核函数的R_squared值为： 0.650659546421538\n",
      "对多项式核函数的均方误差为: 27.088311013556027\n",
      "对多项式核函数的平均绝对误差为: 3.4328013877599624\n"
     ]
    },
    {
     "name": "stderr",
     "output_type": "stream",
     "text": [
      "C:\\Users\\Administrator\\Anaconda3\\lib\\site-packages\\sklearn\\utils\\validation.py:761: DataConversionWarning: A column-vector y was passed when a 1d array was expected. Please change the shape of y to (n_samples, ), for example using ravel().\n",
      "  y = column_or_1d(y, warn=True)\n",
      "C:\\Users\\Administrator\\Anaconda3\\lib\\site-packages\\sklearn\\utils\\validation.py:761: DataConversionWarning: A column-vector y was passed when a 1d array was expected. Please change the shape of y to (n_samples, ), for example using ravel().\n",
      "  y = column_or_1d(y, warn=True)\n"
     ]
    },
    {
     "data": {
      "text/plain": [
       "'\\n线性核函数支持向量机的默认评估值为： 0.651717097429608\\n线性核函数支持向量机的R_squared值为： 0.651717097429608\\n线性核函数支持向量机的均方误差为: 27.0063071393243\\n线性核函数支持向量机的平均绝对误差为: 3.426672916872753\\n对多项式核函数的默认评估值为： 0.40445405800289286\\n对多项式核函数的R_squared值为： 0.651717097429608\\n对多项式核函数的均方误差为: 27.0063071393243\\n对多项式核函数的平均绝对误差为: 3.426672916872753\\n'"
      ]
     },
     "execution_count": 2,
     "metadata": {},
     "output_type": "execute_result"
    }
   ],
   "source": [
    "from sklearn.datasets import load_boston\n",
    "from sklearn.model_selection import train_test_split\n",
    "from sklearn.preprocessing import StandardScaler\n",
    "from sklearn.svm import SVR\n",
    "from sklearn.metrics import r2_score, mean_squared_error, mean_absolute_error\n",
    "import numpy as np\n",
    "\n",
    "# 1 准备数据\n",
    "# 读取波士顿地区房价信息\n",
    "boston = load_boston()\n",
    "# 查看数据描述\n",
    "# print(boston.DESCR)   # 共506条波士顿地区房价信息，每条13项数值特征描述和目标房价\n",
    "# 查看数据的差异情况\n",
    "# print(\"最大房价：\", np.max(boston.target))   # 50\n",
    "# print(\"最小房价：\",np.min(boston.target))    # 5\n",
    "# print(\"平均房价：\", np.mean(boston.target))   # 22.532806324110677\n",
    "\n",
    "x = boston.data\n",
    "y = boston.target\n",
    "\n",
    "# 2 分割训练数据和测试数据\n",
    "# 随机采样25%作为测试 75%作为训练\n",
    "x_train, x_test, y_train, y_test = train_test_split(x, y, test_size=0.25, random_state=33)\n",
    "\n",
    "\n",
    "# 3 训练数据和测试数据进行标准化处理\n",
    "ss_x = StandardScaler()\n",
    "x_train = ss_x.fit_transform(x_train)\n",
    "x_test = ss_x.transform(x_test)\n",
    "\n",
    "ss_y = StandardScaler()\n",
    "y_train = ss_y.fit_transform(y_train.reshape(-1, 1))\n",
    "y_test = ss_y.transform(y_test.reshape(-1, 1))\n",
    "\n",
    "# 4.1 支持向量机模型进行学习和预测\n",
    "# 线性核函数配置支持向量机\n",
    "linear_svr = SVR(kernel=\"linear\")\n",
    "# 训练\n",
    "linear_svr.fit(x_train, y_train)\n",
    "# 预测 保存预测结果\n",
    "linear_svr_y_predict = linear_svr.predict(x_test)\n",
    "\n",
    "# 多项式核函数配置支持向量机\n",
    "poly_svr = SVR(kernel=\"poly\")\n",
    "# 训练\n",
    "poly_svr.fit(x_train, y_train)\n",
    "# 预测 保存预测结果\n",
    "poly_svr_y_predict = linear_svr.predict(x_test)\n",
    "\n",
    "# 5 模型评估\n",
    "# 线性核函数 模型评估\n",
    "print(\"线性核函数支持向量机的默认评估值为：\", linear_svr.score(x_test, y_test))\n",
    "print(\"线性核函数支持向量机的R_squared值为：\", r2_score(y_test, linear_svr_y_predict))\n",
    "print(\"线性核函数支持向量机的均方误差为:\", mean_squared_error(ss_y.inverse_transform(y_test),\n",
    "                                              ss_y.inverse_transform(linear_svr_y_predict)))\n",
    "print(\"线性核函数支持向量机的平均绝对误差为:\", mean_absolute_error(ss_y.inverse_transform(y_test),\n",
    "                                                 ss_y.inverse_transform(linear_svr_y_predict)))\n",
    "# 对多项式核函数模型评估\n",
    "print(\"对多项式核函数的默认评估值为：\", poly_svr.score(x_test, y_test))\n",
    "print(\"对多项式核函数的R_squared值为：\", r2_score(y_test, poly_svr_y_predict))\n",
    "print(\"对多项式核函数的均方误差为:\", mean_squared_error(ss_y.inverse_transform(y_test),\n",
    "                                           ss_y.inverse_transform(poly_svr_y_predict)))\n",
    "print(\"对多项式核函数的平均绝对误差为:\", mean_absolute_error(ss_y.inverse_transform(y_test),\n",
    "                                              ss_y.inverse_transform(poly_svr_y_predict)))\n",
    "\n",
    "'''\n",
    "线性核函数支持向量机的默认评估值为： 0.651717097429608\n",
    "线性核函数支持向量机的R_squared值为： 0.651717097429608\n",
    "线性核函数支持向量机的均方误差为: 27.0063071393243\n",
    "线性核函数支持向量机的平均绝对误差为: 3.426672916872753\n",
    "对多项式核函数的默认评估值为： 0.40445405800289286\n",
    "对多项式核函数的R_squared值为： 0.651717097429608\n",
    "对多项式核函数的均方误差为: 27.0063071393243\n",
    "对多项式核函数的平均绝对误差为: 3.426672916872753\n",
    "'''"
   ]
  },
  {
   "cell_type": "code",
   "execution_count": 4,
   "metadata": {},
   "outputs": [
    {
     "name": "stdout",
     "output_type": "stream",
     "text": [
      "Linear的默认评估值为： 0.675795501452948\n",
      "Linear的R_squared值为： 0.675795501452948\n",
      "Linear的均方误差为: 25.139236520353457\n",
      "Linear的平均绝对误差为: 3.5325325437053983\n",
      "SGD的默认评估值为： 0.6577475605416818\n",
      "SGD的R_squared值为： 0.6577475605416818\n",
      "SGD的均方误差为: 26.53869722280215\n",
      "SGD的平均绝对误差为: 3.5146278167288147\n"
     ]
    },
    {
     "name": "stderr",
     "output_type": "stream",
     "text": [
      "C:\\Users\\Administrator\\Anaconda3\\lib\\site-packages\\sklearn\\linear_model\\stochastic_gradient.py:166: FutureWarning: max_iter and tol parameters have been added in SGDRegressor in 0.19. If both are left unset, they default to max_iter=5 and tol=None. If tol is not None, max_iter defaults to max_iter=1000. From 0.21, default max_iter will be 1000, and default tol will be 1e-3.\n",
      "  FutureWarning)\n",
      "C:\\Users\\Administrator\\Anaconda3\\lib\\site-packages\\sklearn\\utils\\validation.py:761: DataConversionWarning: A column-vector y was passed when a 1d array was expected. Please change the shape of y to (n_samples, ), for example using ravel().\n",
      "  y = column_or_1d(y, warn=True)\n"
     ]
    },
    {
     "data": {
      "text/plain": [
       "'\\nLinear的默认评估值为： 0.6763403830998702\\nLinear的R_squared值为： 0.6763403830998701\\nLinear的均方误差为: 25.09698569206773\\nLinear的平均绝对误差为: 3.5261239963985433\\n\\nSGD的默认评估值为： 0.659795654161198\\nSGD的R_squared值为： 0.659795654161198\\nSGD的均方误差为: 26.379885392159494\\nSGD的平均绝对误差为: 3.5094445431026413\\n'"
      ]
     },
     "execution_count": 4,
     "metadata": {},
     "output_type": "execute_result"
    }
   ],
   "source": [
    "#LR_Boston\n",
    "from sklearn.datasets import load_boston\n",
    "from sklearn.model_selection import train_test_split\n",
    "from sklearn.preprocessing import StandardScaler\n",
    "from sklearn.linear_model import LinearRegression, SGDRegressor\n",
    "from sklearn.metrics import r2_score, mean_squared_error, mean_absolute_error\n",
    "import numpy as np\n",
    "\n",
    "# 1 准备数据\n",
    "# 读取波士顿地区房价信息\n",
    "boston = load_boston()\n",
    "# 查看数据描述\n",
    "# print(boston.DESCR)   # 共506条波士顿地区房价信息，每条13项数值特征描述和目标房价\n",
    "# 查看数据的差异情况\n",
    "# print(\"最大房价：\", np.max(boston.target))   # 50\n",
    "# print(\"最小房价：\",np.min(boston.target))    # 5\n",
    "# print(\"平均房价：\", np.mean(boston.target))   # 22.532806324110677\n",
    "\n",
    "x = boston.data\n",
    "y = boston.target\n",
    "\n",
    "# 2 分割训练数据和测试数据\n",
    "# 随机采样25%作为测试 75%作为训练\n",
    "x_train, x_test, y_train, y_test = train_test_split(x, y, test_size=0.25, random_state=33)\n",
    "\n",
    "\n",
    "# 3 训练数据和测试数据进行标准化处理\n",
    "ss_x = StandardScaler()\n",
    "x_train = ss_x.fit_transform(x_train)\n",
    "x_test = ss_x.transform(x_test)\n",
    "\n",
    "ss_y = StandardScaler()\n",
    "y_train = ss_y.fit_transform(y_train.reshape(-1, 1))\n",
    "y_test = ss_y.transform(y_test.reshape(-1, 1))\n",
    "\n",
    "# 4 使用两种线性回归模型进行训练和预测\n",
    "# 初始化LinearRegression线性回归模型\n",
    "lr = LinearRegression()\n",
    "# 训练\n",
    "lr.fit(x_train, y_train)\n",
    "# 预测 保存预测结果\n",
    "lr_y_predict = lr.predict(x_test)\n",
    "\n",
    "# 初始化SGDRRegressor随机梯度回归模型\n",
    "sgdr = SGDRegressor()\n",
    "# 训练\n",
    "sgdr.fit(x_train, y_train)\n",
    "# 预测 保存预测结果\n",
    "sgdr_y_predict = sgdr.predict(x_test)\n",
    "\n",
    "# 5 模型评估\n",
    "# 对Linear模型评估\n",
    "lr_score = lr.score(x_test, y_test)\n",
    "print(\"Linear的默认评估值为：\", lr_score)\n",
    "lr_R_squared = r2_score(y_test, lr_y_predict)\n",
    "print(\"Linear的R_squared值为：\", lr_R_squared)\n",
    "lr_mse = mean_squared_error(ss_y.inverse_transform(y_test),ss_y.inverse_transform(lr_y_predict))\n",
    "print(\"Linear的均方误差为:\", lr_mse)\n",
    "lr_mae = mean_absolute_error(ss_y.inverse_transform(y_test),ss_y.inverse_transform(lr_y_predict))\n",
    "print(\"Linear的平均绝对误差为:\", lr_mae)\n",
    "\n",
    "# 对SGD模型评估\n",
    "sgdr_score = sgdr.score(x_test, y_test)\n",
    "print(\"SGD的默认评估值为：\", sgdr_score)\n",
    "sgdr_R_squared = r2_score(y_test, sgdr_y_predict)\n",
    "print(\"SGD的R_squared值为：\", sgdr_R_squared)\n",
    "sgdr_mse = mean_squared_error(ss_y.inverse_transform(y_test), ss_y.inverse_transform(sgdr_y_predict))\n",
    "print(\"SGD的均方误差为:\", sgdr_mse)\n",
    "sgdr_mae = mean_absolute_error(ss_y.inverse_transform(y_test), ss_y.inverse_transform(sgdr_y_predict))\n",
    "print(\"SGD的平均绝对误差为:\", sgdr_mae)\n",
    "\n",
    "'''\n",
    "Linear的默认评估值为： 0.6763403830998702\n",
    "Linear的R_squared值为： 0.6763403830998701\n",
    "Linear的均方误差为: 25.09698569206773\n",
    "Linear的平均绝对误差为: 3.5261239963985433\n",
    "\n",
    "SGD的默认评估值为： 0.659795654161198\n",
    "SGD的R_squared值为： 0.659795654161198\n",
    "SGD的均方误差为: 26.379885392159494\n",
    "SGD的平均绝对误差为: 3.5094445431026413\n",
    "'''"
   ]
  },
  {
   "cell_type": "code",
   "execution_count": null,
   "metadata": {},
   "outputs": [],
   "source": []
  }
 ],
 "metadata": {
  "kernelspec": {
   "display_name": "Python 3",
   "language": "python",
   "name": "python3"
  },
  "language_info": {
   "codemirror_mode": {
    "name": "ipython",
    "version": 3
   },
   "file_extension": ".py",
   "mimetype": "text/x-python",
   "name": "python",
   "nbconvert_exporter": "python",
   "pygments_lexer": "ipython3",
   "version": "3.7.3"
  }
 },
 "nbformat": 4,
 "nbformat_minor": 2
}
