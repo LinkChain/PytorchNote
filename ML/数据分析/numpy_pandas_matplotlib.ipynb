{
 "cells": [
  {
   "cell_type": "code",
   "execution_count": 1,
   "metadata": {},
   "outputs": [
    {
     "name": "stdout",
     "output_type": "stream",
     "text": [
      "[1 2 3]\n",
      "(3,)\n",
      "[[1 2 3]\n",
      " [2 3 4]\n",
      " [3 4 5]]\n",
      "(3, 3)\n"
     ]
    }
   ],
   "source": [
    "import numpy as np\n",
    "# 创建数组\n",
    "myarray = np.array([1, 2, 3])\n",
    "print(myarray)\n",
    "print(myarray.shape)\n",
    "#创建多维数组\n",
    "myarray = np.array([[1, 2, 3], [2, 3, 4], [3, 4, 5]])\n",
    "print(myarray)\n",
    "print(myarray.shape)"
   ]
  },
  {
   "cell_type": "code",
   "execution_count": 2,
   "metadata": {},
   "outputs": [
    {
     "name": "stdout",
     "output_type": "stream",
     "text": [
      "[[1 2 3]\n",
      " [2 3 4]\n",
      " [3 4 5]]\n",
      "(3, 3)\n",
      "这是第一行：[1 2 3]\n",
      "这是最后一行：[3 4 5]\n",
      "访问整列（3列）数据：[3 4 5]\n",
      "访问指定行（2行）和列（3列）的数据：4\n"
     ]
    }
   ],
   "source": [
    "import numpy as np\n",
    "# 创建多维数组\n",
    "myarray = np.array([[1, 2, 3], [2, 3, 4], [3, 4, 5]])\n",
    "print(myarray)\n",
    "print(myarray.shape)\n",
    "# 访问数据\n",
    "print('这是第一行：%s' % myarray[0])\n",
    "print('这是最后一行：%s' % myarray[-1])\n",
    "print('访问整列（3列）数据：%s' % myarray[:, 2])\n",
    "print('访问指定行（2行）和列（3列）的数据：%s' % myarray[1, 2])"
   ]
  },
  {
   "cell_type": "code",
   "execution_count": 3,
   "metadata": {},
   "outputs": [
    {
     "name": "stdout",
     "output_type": "stream",
     "text": [
      "a    1\n",
      "b    2\n",
      "c    3\n",
      "dtype: int32\n",
      "Series中的第一个元素：\n",
      "1\n",
      "Series中的c index的元素：\n",
      "3\n"
     ]
    }
   ],
   "source": [
    "import numpy as np\n",
    "import pandas as pd\n",
    "myarray = np.array([1, 2, 3])\n",
    "index = ['a', 'b', 'c']\n",
    "myseries = pd.Series(myarray, index=index)\n",
    "print(myseries)\n",
    "print('Series中的第一个元素：')\n",
    "print(myseries[0])\n",
    "print('Series中的c index的元素：')\n",
    "print(myseries['c'])"
   ]
  },
  {
   "cell_type": "code",
   "execution_count": 4,
   "metadata": {},
   "outputs": [
    {
     "name": "stdout",
     "output_type": "stream",
     "text": [
      "      col1  col2  col3\n",
      "row1     1     2     3\n",
      "row2     2     3     4\n",
      "row3     3     4     5\n",
      "访问col3的数据：\n",
      "row1    3\n",
      "row2    4\n",
      "row3    5\n",
      "Name: col3, dtype: int32\n"
     ]
    }
   ],
   "source": [
    "import numpy as np\n",
    "import pandas as pd\n",
    "myarray = np.array([[1, 2, 3], [2, 3, 4], [3, 4, 5]])\n",
    "rowindex = ['row1', 'row2', 'row3']\n",
    "colname = ['col1', 'col2', 'col3']\n",
    "mydataframe = pd.DataFrame(data=myarray,\n",
    "                           index=rowindex, columns=colname)\n",
    "print(mydataframe)\n",
    "print('访问col3的数据：')\n",
    "print(mydataframe['col3'])"
   ]
  },
  {
   "cell_type": "code",
   "execution_count": 7,
   "metadata": {},
   "outputs": [
    {
     "data": {
      "image/png": "[encoded data removed]",
      "text/plain": [
       "<Figure size 432x288 with 1 Axes>"
      ]
     },
     "metadata": {
      "needs_background": "light"
     },
     "output_type": "display_data"
    }
   ],
   "source": [
    "import matplotlib.pyplot as plt\n",
    "import numpy as np\n",
    "\n",
    "# 定义绘图的数据\n",
    "myarray = np.array([[1, 2, 3], [2, 3, 4], [3, 4, 5]])\n",
    "# 初始化绘图\n",
    "plt.plot(myarray)\n",
    "# 设定x，y轴\n",
    "plt.xlabel('x axis')\n",
    "plt.ylabel('y axis')\n",
    "# 绘图\n",
    "plt.show()"
   ]
  },
  {
   "cell_type": "code",
   "execution_count": 6,
   "metadata": {},
   "outputs": [
    {
     "data": {
      "image/png": "[encoded data removed]",
      "text/plain": [
       "<Figure size 432x288 with 1 Axes>"
      ]
     },
     "metadata": {
      "needs_background": "light"
     },
     "output_type": "display_data"
    }
   ],
   "source": [
    "import matplotlib.pyplot as plt\n",
    "import numpy as np\n",
    "\n",
    "# 定义绘图的数据\n",
    "myarray1 = np.array([1, 2, 3])\n",
    "myarray2 = np.array([11, 21, 31])\n",
    "# 初始化绘图\n",
    "plt.scatter(myarray1, myarray2)\n",
    "# 设定x，y轴\n",
    "plt.xlabel('x axis')\n",
    "plt.ylabel('y axis')\n",
    "# 绘图\n",
    "plt.show()"
   ]
  },
  {
   "cell_type": "code",
   "execution_count": 9,
   "metadata": {},
   "outputs": [
    {
     "name": "stdout",
     "output_type": "stream",
     "text": [
      "(768, 9)\n"
     ]
    }
   ],
   "source": [
    "#三种导入数据方法\n",
    "from csv import reader\n",
    "import numpy as np\n",
    "# 使用标准的Python类库导入CSV数据\n",
    "filename = 'data/pima_data.csv'\n",
    "with open(filename, 'rt') as raw_data:\n",
    "    readers = reader(raw_data, delimiter=',')\n",
    "    x = list(readers)\n",
    "    data = np.array(x).astype('float')\n",
    "    print(data.shape)"
   ]
  },
  {
   "cell_type": "code",
   "execution_count": 11,
   "metadata": {},
   "outputs": [
    {
     "name": "stdout",
     "output_type": "stream",
     "text": [
      "(768, 9)\n"
     ]
    }
   ],
   "source": [
    "from numpy import loadtxt\n",
    "# 使用numpy导入CSV数据\n",
    "filename = 'data/pima_data.csv'\n",
    "with open(filename, 'rt') as raw_data:\n",
    "    data = loadtxt(raw_data, delimiter=',')\n",
    "    print(data.shape)"
   ]
  },
  {
   "cell_type": "code",
   "execution_count": 12,
   "metadata": {},
   "outputs": [
    {
     "name": "stdout",
     "output_type": "stream",
     "text": [
      "(768, 9)\n"
     ]
    }
   ],
   "source": [
    "from pandas import read_csv\n",
    "# 使用Pandas导入CSV数据\n",
    "filename = 'data/pima_data.csv'\n",
    "names = ['preg', 'plas', 'pres', 'skin', 'test', 'mass', 'pedi', 'age', 'class']\n",
    "data = read_csv(filename, names=names)\n",
    "print(data.shape)"
   ]
  },
  {
   "cell_type": "code",
   "execution_count": null,
   "metadata": {},
   "outputs": [],
   "source": []
  }
 ],
 "metadata": {
  "kernelspec": {
   "display_name": "Python 3",
   "language": "python",
   "name": "python3"
  },
  "language_info": {
   "codemirror_mode": {
    "name": "ipython",
    "version": 3
   },
   "file_extension": ".py",
   "mimetype": "text/x-python",
   "name": "python",
   "nbconvert_exporter": "python",
   "pygments_lexer": "ipython3",
   "version": "3.7.3"
  }
 },
 "nbformat": 4,
 "nbformat_minor": 2
}
