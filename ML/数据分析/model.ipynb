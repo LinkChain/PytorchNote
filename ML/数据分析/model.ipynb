{
 "cells": [
  {
   "cell_type": "code",
   "execution_count": 1,
   "metadata": {},
   "outputs": [
    {
     "name": "stdout",
     "output_type": "stream",
     "text": [
      "算法评估结果：80.709%\n"
     ]
    }
   ],
   "source": [
    "import warnings\n",
    "warnings.filterwarnings(\"ignore\")\n",
    "from pandas import read_csv\n",
    "from sklearn.model_selection import train_test_split\n",
    "from sklearn.linear_model import LogisticRegression\n",
    "from pickle import dump\n",
    "from pickle import load\n",
    "# 导入数据\n",
    "filename = 'data/pima_data.csv'\n",
    "names = ['preg', 'plas', 'pres', 'skin', 'test', 'mass', 'pedi', 'age', 'class']\n",
    "data = read_csv(filename, names=names)\n",
    "# 将数据分为输入数据和输出结果\n",
    "array = data.values\n",
    "X = array[:, 0:8]\n",
    "Y = array[:, 8]\n",
    "test_size = 0.33\n",
    "seed = 4\n",
    "X_train, X_test, Y_traing, Y_test = train_test_split(X, Y, test_size=test_size, random_state=seed)\n",
    "# 训练模型\n",
    "model = LogisticRegression()\n",
    "model.fit(X_train, Y_traing)\n",
    "\n",
    "# 保存模型\n",
    "model_file = 'finalized_model.sav'\n",
    "with open(model_file, 'wb') as model_f:\n",
    "    dump(model, model_f)\n",
    "\n",
    "# 加载模型\n",
    "with open(model_file, 'rb') as model_f:\n",
    "    loaded_model = load(model_f)\n",
    "    result = loaded_model.score(X_test, Y_test)\n",
    "    print(\"算法评估结果：%.3f%%\" % (result * 100))"
   ]
  },
  {
   "cell_type": "code",
   "execution_count": 5,
   "metadata": {},
   "outputs": [
    {
     "name": "stdout",
     "output_type": "stream",
     "text": [
      "算法评估结果：80.709%\n"
     ]
    }
   ],
   "source": [
    "from pandas import read_csv\n",
    "from sklearn.model_selection import train_test_split\n",
    "from sklearn.linear_model import LogisticRegression\n",
    "from joblib import dump\n",
    "from joblib import load\n",
    "# 导入数据\n",
    "filename = 'data/pima_data.csv'\n",
    "names = ['preg', 'plas', 'pres', 'skin', 'test', 'mass', 'pedi', 'age', 'class']\n",
    "data = read_csv(filename, names=names)\n",
    "# 将数据分为输入数据和输出结果\n",
    "array = data.values\n",
    "X = array[:, 0:8]\n",
    "Y = array[:, 8]\n",
    "test_size = 0.33\n",
    "seed = 4\n",
    "X_train, X_test, Y_traing, Y_test = train_test_split(X, Y, test_size=test_size, random_state=seed)\n",
    "# 训练模型\n",
    "model = LogisticRegression()\n",
    "model.fit(X_train, Y_traing)\n",
    "\n",
    "# 保存模型\n",
    "model_file = 'finalized_model_joblib.sav'\n",
    "with open(model_file, 'wb') as model_f:\n",
    "    dump(model, model_f)\n",
    "\n",
    "# 加载模型\n",
    "with open(model_file, 'rb') as model_f:\n",
    "    loaded_model = load(model_f)\n",
    "    result = loaded_model.score(X_test, Y_test)\n",
    "    print(\"算法评估结果：%.3f%%\" % (result * 100))"
   ]
  },
  {
   "cell_type": "code",
   "execution_count": null,
   "metadata": {},
   "outputs": [],
   "source": []
  }
 ],
 "metadata": {
  "kernelspec": {
   "display_name": "Python 3",
   "language": "python",
   "name": "python3"
  },
  "language_info": {
   "codemirror_mode": {
    "name": "ipython",
    "version": 3
   },
   "file_extension": ".py",
   "mimetype": "text/x-python",
   "name": "python",
   "nbconvert_exporter": "python",
   "pygments_lexer": "ipython3",
   "version": "3.8.5"
  },
  "toc": {
   "base_numbering": 1,
   "nav_menu": {},
   "number_sections": true,
   "sideBar": true,
   "skip_h1_title": false,
   "title_cell": "Table of Contents",
   "title_sidebar": "Contents",
   "toc_cell": false,
   "toc_position": {},
   "toc_section_display": true,
   "toc_window_display": false
  }
 },
 "nbformat": 4,
 "nbformat_minor": 4
}
